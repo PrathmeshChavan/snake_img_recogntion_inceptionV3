{
  "nbformat": 4,
  "nbformat_minor": 0,
  "metadata": {
    "accelerator": "GPU",
    "colab": {
      "name": "snake.ipynb",
      "provenance": [],
      "collapsed_sections": []
    },
    "kernelspec": {
      "display_name": "Python 3",
      "name": "python3"
    }
  },
  "cells": [
    {
      "cell_type": "code",
      "metadata": {
        "id": "dtGA7z0juzpb"
      },
      "source": [
        "#! pip install tensorflow==2.1.0\r\n",
        "import tensorflow\r\n",
        "from tensorflow.keras.layers import Dense , Flatten , Conv2D , MaxPooling2D\r\n",
        "from tensorflow.keras.preprocessing.image import ImageDataGenerator\r\n",
        "from tensorflow.keras.applications.inception_v3 import InceptionV3\r\n",
        "from tensorflow.keras.models import Sequential\r\n",
        "from tensorflow.keras.models import Model\r\n",
        "import matplotlib.pyplot as plt\r\n",
        "from glob import glob\r\n",
        "import pandas as pd\r\n",
        "import numpy as np"
      ],
      "execution_count": null,
      "outputs": []
    },
    {
      "cell_type": "code",
      "metadata": {
        "colab": {
          "base_uri": "https://localhost:8080/"
        },
        "id": "sRuya5H6k3Rq",
        "outputId": "cde0f106-3c5a-4045-9f27-a3b812af97ff"
      },
      "source": [
        "print(tensorflow.__version__)"
      ],
      "execution_count": null,
      "outputs": [
        {
          "output_type": "stream",
          "text": [
            "2.1.0\n"
          ],
          "name": "stdout"
        }
      ]
    },
    {
      "cell_type": "code",
      "metadata": {
        "id": "PFDsAJy8vpmm"
      },
      "source": [
        "Train = \"/content/drive/MyDrive/Snakes/Train\"\n",
        "Test = \"/content/drive/MyDrive/Snakes/Test\""
      ],
      "execution_count": null,
      "outputs": []
    },
    {
      "cell_type": "code",
      "metadata": {
        "id": "GamK_RMuv6LM"
      },
      "source": [
        "IMAGE_SIZE = [224, 224]\r\n",
        "inception = InceptionV3(input_shape=IMAGE_SIZE + [3], weights='imagenet', include_top=False)"
      ],
      "execution_count": null,
      "outputs": []
    },
    {
      "cell_type": "code",
      "metadata": {
        "id": "hSq3LOlnp0iZ"
      },
      "source": [
        "# don't train existing weights\r\n",
        "for layer in inception.layers:\r\n",
        "    layer.trainable = False"
      ],
      "execution_count": null,
      "outputs": []
    },
    {
      "cell_type": "code",
      "metadata": {
        "id": "eCQI43hQp0v7"
      },
      "source": [
        "# useful for getting number of output classes\r\n",
        "#folders = glob('/content/drive/MyDrive/Snakes/Train')"
      ],
      "execution_count": null,
      "outputs": []
    },
    {
      "cell_type": "code",
      "metadata": {
        "id": "Lwxta4fip05V"
      },
      "source": [
        "# our layers - you can add more if you want\r\n",
        "x = Flatten()(inception.output)"
      ],
      "execution_count": null,
      "outputs": []
    },
    {
      "cell_type": "code",
      "metadata": {
        "id": "wGXoD4Ghp1Cm"
      },
      "source": [
        "prediction = Dense(4, activation='softmax')(x)\r\n",
        "\r\n",
        "# create a model object\r\n",
        "model = Model(inputs=inception.input, outputs=prediction)"
      ],
      "execution_count": null,
      "outputs": []
    },
    {
      "cell_type": "code",
      "metadata": {
        "id": "DcPwXsO7lHF6"
      },
      "source": [
        "#len(folders)\r\n",
        "#print(prediction)"
      ],
      "execution_count": null,
      "outputs": []
    },
    {
      "cell_type": "code",
      "metadata": {
        "id": "5XXiNf_92vlN"
      },
      "source": [
        "train_datagen = ImageDataGenerator(rescale = 1./255,\n",
        "                                   shear_range = 0.2,\n",
        "                                   zoom_range = 0.2,\n",
        "                                   horizontal_flip = True)\n",
        " \n",
        "test_datagen = ImageDataGenerator(rescale = 1./255)"
      ],
      "execution_count": null,
      "outputs": []
    },
    {
      "cell_type": "code",
      "metadata": {
        "colab": {
          "base_uri": "https://localhost:8080/"
        },
        "id": "qnpJMJ6-24KN",
        "outputId": "4b0afdf9-c7b4-4051-b798-785b2d4d0781"
      },
      "source": [
        "training_set = train_datagen.flow_from_directory(\"/content/drive/MyDrive/Snakes/Train\",\n",
        "                                                 target_size = (224, 224),\n",
        "                                                 batch_size = 32,\n",
        "                                                 class_mode = 'categorical')\n",
        " \n",
        " \n",
        "test_set = test_datagen.flow_from_directory(\"/content/drive/MyDrive/Snakes/Test\",\n",
        "                                            target_size = (224, 224),\n",
        "                                            batch_size = 32,\n",
        "                                            class_mode = 'categorical')"
      ],
      "execution_count": null,
      "outputs": [
        {
          "output_type": "stream",
          "text": [
            "Found 258 images belonging to 4 classes.\n",
            "Found 157 images belonging to 4 classes.\n"
          ],
          "name": "stdout"
        }
      ]
    },
    {
      "cell_type": "code",
      "metadata": {
        "id": "Fn9UBeTnp_1l"
      },
      "source": [
        "model.compile(\r\n",
        "  loss='categorical_crossentropy',\r\n",
        "  optimizer='rmsprop',\r\n",
        "  metrics=['accuracy']\r\n",
        ")"
      ],
      "execution_count": null,
      "outputs": []
    },
    {
      "cell_type": "code",
      "metadata": {
        "id": "siYS_hu_sUQu",
        "colab": {
          "base_uri": "https://localhost:8080/"
        },
        "outputId": "2fda5047-6224-457d-be88-3f977d931dd8"
      },
      "source": [
        "# fit the model\r\n",
        "# Run the cell. It will take some time to execute\r\n",
        "r = model.fit(training_set,epochs=40,validation_data=test_set)"
      ],
      "execution_count": null,
      "outputs": [
        {
          "output_type": "stream",
          "text": [
            "WARNING:tensorflow:sample_weight modes were coerced from\n",
            "  ...\n",
            "    to  \n",
            "  ['...']\n",
            "WARNING:tensorflow:sample_weight modes were coerced from\n",
            "  ...\n",
            "    to  \n",
            "  ['...']\n",
            "Train for 9 steps, validate for 5 steps\n",
            "Epoch 1/40\n",
            "9/9 [==============================] - 293s 33s/step - loss: 15.6014 - accuracy: 0.3566 - val_loss: 22.8258 - val_accuracy: 0.1465\n",
            "Epoch 2/40\n",
            "9/9 [==============================] - 9s 975ms/step - loss: 3.1252 - accuracy: 0.6667 - val_loss: 1.8549 - val_accuracy: 0.6943\n",
            "Epoch 3/40\n",
            "9/9 [==============================] - 9s 970ms/step - loss: 0.7291 - accuracy: 0.8372 - val_loss: 4.8904 - val_accuracy: 0.7197\n",
            "Epoch 4/40\n",
            "9/9 [==============================] - 9s 968ms/step - loss: 1.3744 - accuracy: 0.7636 - val_loss: 15.0941 - val_accuracy: 0.6497\n",
            "Epoch 5/40\n",
            "9/9 [==============================] - 9s 984ms/step - loss: 1.9467 - accuracy: 0.8062 - val_loss: 4.0351 - val_accuracy: 0.6688\n",
            "Epoch 6/40\n",
            "9/9 [==============================] - 9s 972ms/step - loss: 3.5381 - accuracy: 0.6744 - val_loss: 2.7488 - val_accuracy: 0.7580\n",
            "Epoch 7/40\n",
            "9/9 [==============================] - 9s 967ms/step - loss: 0.3367 - accuracy: 0.9341 - val_loss: 5.7584 - val_accuracy: 0.5860\n",
            "Epoch 8/40\n",
            "9/9 [==============================] - 9s 974ms/step - loss: 0.5509 - accuracy: 0.8915 - val_loss: 1.9470 - val_accuracy: 0.7643\n",
            "Epoch 9/40\n",
            "9/9 [==============================] - 9s 969ms/step - loss: 1.1125 - accuracy: 0.8915 - val_loss: 12.0604 - val_accuracy: 0.7006\n",
            "Epoch 10/40\n",
            "9/9 [==============================] - 9s 968ms/step - loss: 0.8428 - accuracy: 0.8876 - val_loss: 5.8662 - val_accuracy: 0.7006\n",
            "Epoch 11/40\n",
            "9/9 [==============================] - 9s 965ms/step - loss: 2.6434 - accuracy: 0.6938 - val_loss: 2.9481 - val_accuracy: 0.7452\n",
            "Epoch 12/40\n",
            "9/9 [==============================] - 9s 965ms/step - loss: 0.1172 - accuracy: 0.9690 - val_loss: 2.3619 - val_accuracy: 0.7771\n",
            "Epoch 13/40\n",
            "9/9 [==============================] - 9s 966ms/step - loss: 0.1629 - accuracy: 0.9651 - val_loss: 2.0643 - val_accuracy: 0.7707\n",
            "Epoch 14/40\n",
            "9/9 [==============================] - 9s 968ms/step - loss: 0.6108 - accuracy: 0.9574 - val_loss: 3.9619 - val_accuracy: 0.7261\n",
            "Epoch 15/40\n",
            "9/9 [==============================] - 9s 971ms/step - loss: 1.1016 - accuracy: 0.8682 - val_loss: 13.8190 - val_accuracy: 0.6369\n",
            "Epoch 16/40\n",
            "9/9 [==============================] - 9s 967ms/step - loss: 0.7941 - accuracy: 0.8760 - val_loss: 9.1949 - val_accuracy: 0.4777\n",
            "Epoch 17/40\n",
            "9/9 [==============================] - 9s 972ms/step - loss: 0.6593 - accuracy: 0.8992 - val_loss: 1.7580 - val_accuracy: 0.8280\n",
            "Epoch 18/40\n",
            "9/9 [==============================] - 9s 997ms/step - loss: 0.0080 - accuracy: 0.9961 - val_loss: 1.8333 - val_accuracy: 0.8153\n",
            "Epoch 19/40\n",
            "9/9 [==============================] - 9s 966ms/step - loss: 0.0991 - accuracy: 0.9767 - val_loss: 3.2671 - val_accuracy: 0.7580\n",
            "Epoch 20/40\n",
            "9/9 [==============================] - 9s 967ms/step - loss: 0.0244 - accuracy: 0.9922 - val_loss: 1.8705 - val_accuracy: 0.8280\n",
            "Epoch 21/40\n",
            "9/9 [==============================] - 9s 960ms/step - loss: 1.0765 - accuracy: 0.9031 - val_loss: 31.4087 - val_accuracy: 0.3567\n",
            "Epoch 22/40\n",
            "9/9 [==============================] - 9s 965ms/step - loss: 2.5539 - accuracy: 0.8798 - val_loss: 2.8922 - val_accuracy: 0.7834\n",
            "Epoch 23/40\n",
            "9/9 [==============================] - 9s 961ms/step - loss: 0.0429 - accuracy: 0.9884 - val_loss: 2.4280 - val_accuracy: 0.7771\n",
            "Epoch 24/40\n",
            "9/9 [==============================] - 9s 966ms/step - loss: 1.2318 - accuracy: 0.8217 - val_loss: 2.2019 - val_accuracy: 0.7898\n",
            "Epoch 25/40\n",
            "9/9 [==============================] - 9s 960ms/step - loss: 0.0187 - accuracy: 0.9922 - val_loss: 2.1911 - val_accuracy: 0.7962\n",
            "Epoch 26/40\n",
            "9/9 [==============================] - 9s 966ms/step - loss: 0.1348 - accuracy: 0.9690 - val_loss: 3.6722 - val_accuracy: 0.7771\n",
            "Epoch 27/40\n",
            "9/9 [==============================] - 9s 960ms/step - loss: 0.0383 - accuracy: 0.9884 - val_loss: 3.3251 - val_accuracy: 0.7707\n",
            "Epoch 28/40\n",
            "9/9 [==============================] - 9s 959ms/step - loss: 0.1026 - accuracy: 0.9806 - val_loss: 2.6006 - val_accuracy: 0.7707\n",
            "Epoch 29/40\n",
            "9/9 [==============================] - 9s 964ms/step - loss: 0.7066 - accuracy: 0.9264 - val_loss: 2.2401 - val_accuracy: 0.7898\n",
            "Epoch 30/40\n",
            "9/9 [==============================] - 9s 962ms/step - loss: 0.0450 - accuracy: 0.9922 - val_loss: 2.1280 - val_accuracy: 0.7962\n",
            "Epoch 31/40\n",
            "9/9 [==============================] - 9s 974ms/step - loss: 5.6784e-04 - accuracy: 1.0000 - val_loss: 2.0922 - val_accuracy: 0.8025\n",
            "Epoch 32/40\n",
            "9/9 [==============================] - 9s 958ms/step - loss: 0.0017 - accuracy: 1.0000 - val_loss: 2.6757 - val_accuracy: 0.7962\n",
            "Epoch 33/40\n",
            "9/9 [==============================] - 9s 965ms/step - loss: 1.7632 - accuracy: 0.9070 - val_loss: 9.7474 - val_accuracy: 0.6624\n",
            "Epoch 34/40\n",
            "9/9 [==============================] - 9s 962ms/step - loss: 0.3752 - accuracy: 0.9457 - val_loss: 2.5307 - val_accuracy: 0.8089\n",
            "Epoch 35/40\n",
            "9/9 [==============================] - 9s 972ms/step - loss: 0.0718 - accuracy: 0.9806 - val_loss: 2.7949 - val_accuracy: 0.7707\n",
            "Epoch 36/40\n",
            "9/9 [==============================] - 9s 968ms/step - loss: 0.0662 - accuracy: 0.9806 - val_loss: 3.1009 - val_accuracy: 0.7834\n",
            "Epoch 37/40\n",
            "9/9 [==============================] - 9s 963ms/step - loss: 0.9754 - accuracy: 0.9419 - val_loss: 4.1176 - val_accuracy: 0.7516\n",
            "Epoch 38/40\n",
            "9/9 [==============================] - 9s 964ms/step - loss: 0.0641 - accuracy: 0.9884 - val_loss: 4.7428 - val_accuracy: 0.7197\n",
            "Epoch 39/40\n",
            "9/9 [==============================] - 9s 963ms/step - loss: 0.0061 - accuracy: 0.9961 - val_loss: 2.2616 - val_accuracy: 0.8280\n",
            "Epoch 40/40\n",
            "9/9 [==============================] - 9s 974ms/step - loss: 0.7757 - accuracy: 0.9031 - val_loss: 3.5351 - val_accuracy: 0.7707\n"
          ],
          "name": "stdout"
        }
      ]
    },
    {
      "cell_type": "code",
      "metadata": {
        "colab": {
          "base_uri": "https://localhost:8080/",
          "height": 534
        },
        "id": "xnTB-DiJrd6X",
        "outputId": "3a0d23e6-de54-4f70-e6bf-1e6c5b4e4872"
      },
      "source": [
        "# plot the loss\r\n",
        "plt.plot(r.history['loss'], label='train loss')\r\n",
        "plt.plot(r.history['val_loss'], label='val loss')\r\n",
        "plt.legend()\r\n",
        "plt.show()\r\n",
        "plt.savefig('LossVal_loss')\r\n",
        "\r\n",
        "# plot the accuracy\r\n",
        "plt.plot(r.history['accuracy'], label='train acc')\r\n",
        "plt.plot(r.history['val_accuracy'], label='val acc')\r\n",
        "plt.legend()\r\n",
        "plt.show()\r\n",
        "plt.savefig('AccVal_acc')"
      ],
      "execution_count": null,
      "outputs": [
        {
          "output_type": "display_data",
          "data": {
            "image/png": "[encoded data removed]",
            "text/plain": [
              "<Figure size 432x288 with 1 Axes>"
            ]
          },
          "metadata": {
            "tags": [],
            "needs_background": "light"
          }
        },
        {
          "output_type": "display_data",
          "data": {
            "image/png": "[encoded data removed]",
            "text/plain": [
              "<Figure size 432x288 with 1 Axes>"
            ]
          },
          "metadata": {
            "tags": [],
            "needs_background": "light"
          }
        },
        {
          "output_type": "display_data",
          "data": {
            "text/plain": [
              "<Figure size 432x288 with 0 Axes>"
            ]
          },
          "metadata": {
            "tags": []
          }
        }
      ]
    },
    {
      "cell_type": "code",
      "metadata": {
        "id": "r3C0x4gkMhxO"
      },
      "source": [
        "\r\n",
        "# save it as a h5 file\r\n",
        "\r\n",
        "\r\n",
        "from tensorflow.keras.models import load_model\r\n",
        "\r\n",
        "model.save('/content/drive/MyDrive/Snakes/model_inception.h5')"
      ],
      "execution_count": null,
      "outputs": []
    },
    {
      "cell_type": "code",
      "metadata": {
        "id": "3r6qjTdrNDKW"
      },
      "source": [
        ""
      ],
      "execution_count": null,
      "outputs": []
    }
  ]
}